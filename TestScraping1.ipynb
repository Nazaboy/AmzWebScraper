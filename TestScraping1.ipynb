{
 "cells": [
  {
   "cell_type": "code",
   "execution_count": 1,
   "metadata": {},
   "outputs": [],
   "source": [
    "from bs4 import BeautifulSoup\n",
    "import requests \n",
    "import time\n",
    "import datetime\n",
    "import smtplib\n",
    "import csv"
   ]
  },
  {
   "cell_type": "code",
   "execution_count": 2,
   "metadata": {},
   "outputs": [
    {
     "name": "stdout",
     "output_type": "stream",
     "text": [
      "Processed https://www.amazon.co.uk/Amazon-Brand-Sensitive-Unscented-wipes/dp/B07V2N4SJY/ref=zg_bs_g_baby_d_sccl_1/257-9862628-6554964?psc=1\n",
      "Processed https://www.amazon.co.uk/WaterWipes-Sensitive-Newborn-Biodegradable-Unscented/dp/B08MXSBRSB/ref=zg_bs_g_baby_d_sccl_2/257-9862628-6554964?psc=1\n"
     ]
    }
   ],
   "source": [
    "def fetch_page(url, headers):\n",
    "    \"\"\"Fetches the page content from the given URL.\"\"\"\n",
    "    try:\n",
    "        response = requests.get(url, headers=headers)\n",
    "        response.raise_for_status()  # Check for HTTP request errors\n",
    "        return response.content\n",
    "    except requests.RequestException as e:\n",
    "        print(f\"Error fetching page: {e}\")\n",
    "        return None\n",
    "\n",
    "def extract_text(element, default='Not available'):\n",
    "    \"\"\"Safely extracts text from a BeautifulSoup element.\"\"\"\n",
    "    return element.get_text(strip=True) if element else default\n",
    "\n",
    "def extract_product_details(soup, product_id):\n",
    "    \"\"\"Extracts product details from BeautifulSoup object.\"\"\"\n",
    "    product_title = extract_text(soup.find(id='productTitle'))\n",
    "    description_element = soup.find('div', {'id': 'feature-bullets'})\n",
    "    product_description = extract_text(description_element)\n",
    "    rating_element = soup.find(id='averageCustomerReviews')\n",
    "    rating = extract_text(rating_element)\n",
    "    return product_title, product_description, rating\n",
    "\n",
    "def extract_size_price(soup):\n",
    "    \"\"\"Extracts sizes and prices from BeautifulSoup object.\"\"\"\n",
    "    size_price_dict = {}\n",
    "    i = 0\n",
    "    while True:\n",
    "        size_id = f'size_name_{i}'\n",
    "        price_id = f'size_name_{i}_price'\n",
    "        \n",
    "        size_element = soup.find(id=size_id)\n",
    "        price_element = soup.find(id=price_id)\n",
    "        \n",
    "        if not size_element or not price_element:\n",
    "            break\n",
    "        \n",
    "        size = extract_text(size_element).split(\"\\n\")[0].strip()\n",
    "        price = extract_text(price_element).replace(\"1 option from \", \"\").strip()\n",
    "        \n",
    "        size_price_dict[size] = price\n",
    "        i += 1\n",
    "    return size_price_dict\n",
    "\n",
    "def scrape_and_save(urls, headers, output_file):\n",
    "    \"\"\"Scrapes product details from multiple URLs and saves results to a CSV file.\"\"\"\n",
    "    with open(output_file, 'w', newline='', encoding='utf-8') as csvfile:\n",
    "        fieldnames = ['Product ID', 'Product Name', 'Description', 'Store', 'Rating', 'Size', 'Price']\n",
    "        writer = csv.DictWriter(csvfile, fieldnames=fieldnames)\n",
    "        writer.writeheader()\n",
    "        \n",
    "        for url in urls:\n",
    "            page_content = fetch_page(url, headers)\n",
    "            if page_content:\n",
    "                soup = BeautifulSoup(page_content, \"html.parser\")\n",
    "                product_id = url.split('/dp/')[1].split('/')[0]\n",
    "                product_title, product_description, rating = extract_product_details(soup, product_id)\n",
    "                size_price_dict = extract_size_price(soup)\n",
    "                \n",
    "                for size, price in size_price_dict.items():\n",
    "                    writer.writerow({\n",
    "                        'Product ID': product_id,\n",
    "                        'Product Name': product_title,\n",
    "                        'Description': product_description,\n",
    "                        'Store': 'Amazon UK',\n",
    "                        'Rating': rating,\n",
    "                        'Size': size,\n",
    "                        'Price': price\n",
    "                    })\n",
    "                print(f\"Processed {url}\")\n",
    "\n",
    "# Example usage\n",
    "urls = [\n",
    "    'https://www.amazon.co.uk/Amazon-Brand-Sensitive-Unscented-wipes/dp/B07V2N4SJY/ref=zg_bs_g_baby_d_sccl_1/257-9862628-6554964?psc=1',\n",
    "    'https://www.amazon.co.uk/WaterWipes-Sensitive-Newborn-Biodegradable-Unscented/dp/B08MXSBRSB/ref=zg_bs_g_baby_d_sccl_2/257-9862628-6554964?psc=1',\n",
    "]\n",
    "\n",
    "headers = {\n",
    "    'User-Agent': 'Mozilla/5.0 (X11; Linux x86_64) AppleWebKit/537.36 (KHTML, like Gecko) Chrome/127.0.0.0 Safari/537.36'\n",
    "}\n",
    "\n",
    "output_file = 'products.csv'\n",
    "scrape_and_save(urls, headers, output_file)"
   ]
  }
 ],
 "metadata": {
  "kernelspec": {
   "display_name": "Python 3",
   "language": "python",
   "name": "python3"
  },
  "language_info": {
   "codemirror_mode": {
    "name": "ipython",
    "version": 3
   },
   "file_extension": ".py",
   "mimetype": "text/x-python",
   "name": "python",
   "nbconvert_exporter": "python",
   "pygments_lexer": "ipython3",
   "version": "3.8.10"
  }
 },
 "nbformat": 4,
 "nbformat_minor": 2
}
