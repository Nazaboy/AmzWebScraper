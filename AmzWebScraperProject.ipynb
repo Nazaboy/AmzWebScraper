{
 "cells": [
  {
   "cell_type": "markdown",
   "metadata": {},
   "source": [
    "### 1- import libraries"
   ]
  },
  {
   "cell_type": "code",
   "execution_count": 1,
   "metadata": {},
   "outputs": [],
   "source": [
    "from bs4 import BeautifulSoup\n",
    "import requests\n",
    "import time\n",
    "import datetime\n",
    "import csv\n",
    "from urllib3.util.retry import Retry\n",
    "from requests.adapters import HTTPAdapter\n"
   ]
  },
  {
   "cell_type": "markdown",
   "metadata": {},
   "source": [
    "### 2- requests handling\n",
    "\n",
    "some collected infos:\n",
    "- The User-Agent request header is a characteristic string that lets servers and network peers identify the application, operating system, vendor, and/or version of the requesting user agent. "
   ]
  },
  {
   "cell_type": "code",
   "execution_count": 2,
   "metadata": {},
   "outputs": [
    {
     "name": "stdout",
     "output_type": "stream",
     "text": [
      "Data saved to amazon_product_B09843WY1B_2024-10-05.csv\n"
     ]
    }
   ],
   "source": [
    "# Setup retry strategy for requests\n",
    "session = requests.Session()\n",
    "retry = Retry(total=3, backoff_factor=0.3, status_forcelist=[500, 502, 503, 504])\n",
    "adapter = HTTPAdapter(max_retries=retry)\n",
    "session.mount('http://', adapter)\n",
    "session.mount('https://', adapter)\n",
    "\n",
    "# URL and headers\n",
    "URL = 'https://www.amazon.co.uk/Johnsons-Cotton-Buds-200/dp/B09843WY1B/ref=zg_bs_g_baby_d_sccl_3/257-9862628-6554964'\n",
    "headers = {\n",
    "    'User-Agent': 'Mozilla/5.0 (X11; Linux x86_64) AppleWebKit/537.36 (KHTML, like Gecko) Chrome/127.0.0.0 Safari/537.36'\n",
    "}\n",
    "\n",
    "# Fetching the page content\n",
    "response = session.get(URL, headers=headers)\n",
    "\n",
    "if response.status_code == 200:\n",
    "    soup = BeautifulSoup(response.content, \"html.parser\")\n",
    "    \n",
    "    # Extracting product details\n",
    "    product_id = URL.split('/dp/')[1].split('/')[0]\n",
    "    product_title = soup.find(id='productTitle').get_text(strip=True) if soup.find(id='productTitle') else 'Title not available'\n",
    "    product_description = soup.find(id='feature-bullets').get_text(strip=True) if soup.find(id='feature-bullets') else 'Description not available'\n",
    "    rating = soup.find(id='averageCustomerReviews').get_text(strip=True) if soup.find(id='averageCustomerReviews') else 'Rating not available'\n",
    "    store = 'Amazon UK'\n",
    "\n",
    "    # Size and price extraction\n",
    "    i = 0\n",
    "    size_price_dict = {}\n",
    "\n",
    "    while True:\n",
    "        size_id = f'size_name_{i}'\n",
    "        price_id = f'size_name_{i}_price'\n",
    "        size_element = soup.find(id=size_id)\n",
    "        price_element = soup.find(id=price_id)\n",
    "\n",
    "        if not size_element or not price_element:\n",
    "            break\n",
    "\n",
    "        size = size_element.get_text(strip=True)\n",
    "        price = price_element.get_text(strip=True).replace(\"1 option from \", \"\")\n",
    "\n",
    "        if size and price:\n",
    "            size_price_dict[size] = price\n",
    "\n",
    "        i += 1\n",
    "\n",
    "    # Saving to CSV\n",
    "    filename = f\"amazon_product_{product_id}_{datetime.datetime.now().strftime('%Y-%m-%d')}.csv\"\n",
    "    with open(filename, mode='w', newline='', encoding='utf-8') as file:\n",
    "        writer = csv.writer(file)\n",
    "        writer.writerow(['Product ID', 'Product Name', 'Description', 'Store', 'Rating', 'Size', 'Price'])\n",
    "        for size, price in size_price_dict.items():\n",
    "            writer.writerow([product_id, product_title, product_description, store, rating, size, price])\n",
    "\n",
    "    print(f\"Data saved to {filename}\")\n",
    "\n",
    "else:\n",
    "    print(f\"Failed to retrieve the URL, status code: {response.status_code}\")\n"
   ]
  }
 ],
 "metadata": {
  "kernelspec": {
   "display_name": "Python 3",
   "language": "python",
   "name": "python3"
  },
  "language_info": {
   "codemirror_mode": {
    "name": "ipython",
    "version": 3
   },
   "file_extension": ".py",
   "mimetype": "text/x-python",
   "name": "python",
   "nbconvert_exporter": "python",
   "pygments_lexer": "ipython3",
   "version": "3.8.10"
  }
 },
 "nbformat": 4,
 "nbformat_minor": 2
}
